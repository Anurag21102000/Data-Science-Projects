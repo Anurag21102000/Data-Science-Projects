{
 "cells": [
  {
   "cell_type": "code",
   "execution_count": 2,
   "id": "3c8e8064",
   "metadata": {},
   "outputs": [
    {
     "ename": "ModuleNotFoundError",
     "evalue": "No module named 'numpy'",
     "output_type": "error",
     "traceback": [
      "\u001b[1;31m---------------------------------------------------------------------------\u001b[0m",
      "\u001b[1;31mModuleNotFoundError\u001b[0m                       Traceback (most recent call last)",
      "Cell \u001b[1;32mIn [2], line 1\u001b[0m\n\u001b[1;32m----> 1\u001b[0m \u001b[38;5;28;01mimport\u001b[39;00m \u001b[38;5;21;01mnumpy\u001b[39;00m \u001b[38;5;28;01mas\u001b[39;00m \u001b[38;5;21;01mnp\u001b[39;00m \n\u001b[0;32m      2\u001b[0m \u001b[38;5;28;01mimport\u001b[39;00m \u001b[38;5;21;01mpandas\u001b[39;00m \u001b[38;5;28;01mas\u001b[39;00m \u001b[38;5;21;01mpd\u001b[39;00m \n\u001b[0;32m      3\u001b[0m \u001b[38;5;28;01mfrom\u001b[39;00m  \u001b[38;5;21;01msklearn\u001b[39;00m\u001b[38;5;21;01m.\u001b[39;00m\u001b[38;5;21;01mmetrics\u001b[39;00m \u001b[38;5;28;01mimport\u001b[39;00m accuracy_score\n",
      "\u001b[1;31mModuleNotFoundError\u001b[0m: No module named 'numpy'"
     ]
    }
   ],
   "source": [
    "import numpy as np \n",
    "import pandas as pd \n",
    "from  sklearn.metrics import accuracy_score\n",
    "from sklearn.ensemble import RandomForestClassifier"
   ]
  },
  {
   "cell_type": "code",
   "execution_count": 1,
   "id": "751e5e59",
   "metadata": {
    "execution": {
     "iopub.execute_input": "2021-09-27T10:30:49.398383Z",
     "iopub.status.busy": "2021-09-27T10:30:49.397619Z",
     "iopub.status.idle": "2021-09-27T10:30:49.416343Z",
     "shell.execute_reply": "2021-09-27T10:30:49.415634Z",
     "shell.execute_reply.started": "2021-09-27T10:29:22.584389Z"
    },
    "papermill": {
     "duration": 0.039188,
     "end_time": "2021-09-27T10:30:49.416486",
     "exception": false,
     "start_time": "2021-09-27T10:30:49.377298",
     "status": "completed"
    },
    "tags": []
   },
   "outputs": [
    {
     "ename": "NameError",
     "evalue": "name 'pd' is not defined",
     "output_type": "error",
     "traceback": [
      "\u001b[1;31m---------------------------------------------------------------------------\u001b[0m",
      "\u001b[1;31mNameError\u001b[0m                                 Traceback (most recent call last)",
      "Cell \u001b[1;32mIn [1], line 1\u001b[0m\n\u001b[1;32m----> 1\u001b[0m train_data\u001b[38;5;241m=\u001b[39m\u001b[43mpd\u001b[49m\u001b[38;5;241m.\u001b[39mread_csv(\u001b[38;5;124m\"\u001b[39m\u001b[38;5;124m/kaggle/input/titanic/train.csv\u001b[39m\u001b[38;5;124m\"\u001b[39m)\n",
      "\u001b[1;31mNameError\u001b[0m: name 'pd' is not defined"
     ]
    }
   ],
   "source": [
    "train_data=pd.read_csv(\"train.csv\")"
   ]
  },
  {
   "cell_type": "code",
   "execution_count": null,
   "id": "1f376a00",
   "metadata": {},
   "outputs": [],
   "source": []
  },
  {
   "cell_type": "code",
   "execution_count": 3,
   "id": "4ab3b40f",
   "metadata": {
    "execution": {
     "iopub.execute_input": "2021-09-27T10:30:49.449622Z",
     "iopub.status.busy": "2021-09-27T10:30:49.448931Z",
     "iopub.status.idle": "2021-09-27T10:30:49.470301Z",
     "shell.execute_reply": "2021-09-27T10:30:49.469717Z",
     "shell.execute_reply.started": "2021-09-27T10:29:22.663802Z"
    },
    "papermill": {
     "duration": 0.038894,
     "end_time": "2021-09-27T10:30:49.470437",
     "exception": false,
     "start_time": "2021-09-27T10:30:49.431543",
     "status": "completed"
    },
    "tags": []
   },
   "outputs": [
    {
     "name": "stdout",
     "output_type": "stream",
     "text": [
      "     PassengerId  Survived  Pclass  \\\n",
      "0              1         0       3   \n",
      "1              2         1       1   \n",
      "2              3         1       3   \n",
      "3              4         1       1   \n",
      "4              5         0       3   \n",
      "..           ...       ...     ...   \n",
      "886          887         0       2   \n",
      "887          888         1       1   \n",
      "888          889         0       3   \n",
      "889          890         1       1   \n",
      "890          891         0       3   \n",
      "\n",
      "                                                  Name     Sex   Age  SibSp  \\\n",
      "0                              Braund, Mr. Owen Harris    male  22.0      1   \n",
      "1    Cumings, Mrs. John Bradley (Florence Briggs Th...  female  38.0      1   \n",
      "2                               Heikkinen, Miss. Laina  female  26.0      0   \n",
      "3         Futrelle, Mrs. Jacques Heath (Lily May Peel)  female  35.0      1   \n",
      "4                             Allen, Mr. William Henry    male  35.0      0   \n",
      "..                                                 ...     ...   ...    ...   \n",
      "886                              Montvila, Rev. Juozas    male  27.0      0   \n",
      "887                       Graham, Miss. Margaret Edith  female  19.0      0   \n",
      "888           Johnston, Miss. Catherine Helen \"Carrie\"  female   NaN      1   \n",
      "889                              Behr, Mr. Karl Howell    male  26.0      0   \n",
      "890                                Dooley, Mr. Patrick    male  32.0      0   \n",
      "\n",
      "     Parch            Ticket     Fare Cabin Embarked  \n",
      "0        0         A/5 21171   7.2500   NaN        S  \n",
      "1        0          PC 17599  71.2833   C85        C  \n",
      "2        0  STON/O2. 3101282   7.9250   NaN        S  \n",
      "3        0            113803  53.1000  C123        S  \n",
      "4        0            373450   8.0500   NaN        S  \n",
      "..     ...               ...      ...   ...      ...  \n",
      "886      0            211536  13.0000   NaN        S  \n",
      "887      0            112053  30.0000   B42        S  \n",
      "888      2        W./C. 6607  23.4500   NaN        S  \n",
      "889      0            111369  30.0000  C148        C  \n",
      "890      0            370376   7.7500   NaN        Q  \n",
      "\n",
      "[891 rows x 12 columns]\n"
     ]
    }
   ],
   "source": [
    "print(train_data)"
   ]
  },
  {
   "cell_type": "code",
   "execution_count": 4,
   "id": "12bf3d63",
   "metadata": {
    "execution": {
     "iopub.execute_input": "2021-09-27T10:30:49.505455Z",
     "iopub.status.busy": "2021-09-27T10:30:49.504790Z",
     "iopub.status.idle": "2021-09-27T10:30:49.518370Z",
     "shell.execute_reply": "2021-09-27T10:30:49.518883Z",
     "shell.execute_reply.started": "2021-09-27T10:29:22.680273Z"
    },
    "papermill": {
     "duration": 0.03252,
     "end_time": "2021-09-27T10:30:49.519051",
     "exception": false,
     "start_time": "2021-09-27T10:30:49.486531",
     "status": "completed"
    },
    "tags": []
   },
   "outputs": [],
   "source": [
    "test_data=pd.read_csv(\"test.csv\")"
   ]
  },
  {
   "cell_type": "code",
   "execution_count": 5,
   "id": "ab7d96b1",
   "metadata": {
    "execution": {
     "iopub.execute_input": "2021-09-27T10:30:49.562071Z",
     "iopub.status.busy": "2021-09-27T10:30:49.557450Z",
     "iopub.status.idle": "2021-09-27T10:30:49.565483Z",
     "shell.execute_reply": "2021-09-27T10:30:49.565989Z",
     "shell.execute_reply.started": "2021-09-27T10:29:22.723962Z"
    },
    "papermill": {
     "duration": 0.031563,
     "end_time": "2021-09-27T10:30:49.566153",
     "exception": false,
     "start_time": "2021-09-27T10:30:49.534590",
     "status": "completed"
    },
    "tags": []
   },
   "outputs": [
    {
     "name": "stdout",
     "output_type": "stream",
     "text": [
      "     PassengerId  Pclass                                          Name  \\\n",
      "0            892       3                              Kelly, Mr. James   \n",
      "1            893       3              Wilkes, Mrs. James (Ellen Needs)   \n",
      "2            894       2                     Myles, Mr. Thomas Francis   \n",
      "3            895       3                              Wirz, Mr. Albert   \n",
      "4            896       3  Hirvonen, Mrs. Alexander (Helga E Lindqvist)   \n",
      "..           ...     ...                                           ...   \n",
      "413         1305       3                            Spector, Mr. Woolf   \n",
      "414         1306       1                  Oliva y Ocana, Dona. Fermina   \n",
      "415         1307       3                  Saether, Mr. Simon Sivertsen   \n",
      "416         1308       3                           Ware, Mr. Frederick   \n",
      "417         1309       3                      Peter, Master. Michael J   \n",
      "\n",
      "        Sex   Age  SibSp  Parch              Ticket      Fare Cabin Embarked  \n",
      "0      male  34.5      0      0              330911    7.8292   NaN        Q  \n",
      "1    female  47.0      1      0              363272    7.0000   NaN        S  \n",
      "2      male  62.0      0      0              240276    9.6875   NaN        Q  \n",
      "3      male  27.0      0      0              315154    8.6625   NaN        S  \n",
      "4    female  22.0      1      1             3101298   12.2875   NaN        S  \n",
      "..      ...   ...    ...    ...                 ...       ...   ...      ...  \n",
      "413    male   NaN      0      0           A.5. 3236    8.0500   NaN        S  \n",
      "414  female  39.0      0      0            PC 17758  108.9000  C105        C  \n",
      "415    male  38.5      0      0  SOTON/O.Q. 3101262    7.2500   NaN        S  \n",
      "416    male   NaN      0      0              359309    8.0500   NaN        S  \n",
      "417    male   NaN      1      1                2668   22.3583   NaN        C  \n",
      "\n",
      "[418 rows x 11 columns]\n"
     ]
    }
   ],
   "source": [
    "print(test_data)"
   ]
  },
  {
   "cell_type": "code",
   "execution_count": 6,
   "id": "8631e16b",
   "metadata": {
    "execution": {
     "iopub.execute_input": "2021-09-27T10:30:49.601459Z",
     "iopub.status.busy": "2021-09-27T10:30:49.600742Z",
     "iopub.status.idle": "2021-09-27T10:30:49.611010Z",
     "shell.execute_reply": "2021-09-27T10:30:49.609865Z",
     "shell.execute_reply.started": "2021-09-27T10:29:22.740572Z"
    },
    "papermill": {
     "duration": 0.029332,
     "end_time": "2021-09-27T10:30:49.611154",
     "exception": false,
     "start_time": "2021-09-27T10:30:49.581822",
     "status": "completed"
    },
    "tags": []
   },
   "outputs": [],
   "source": [
    "women=train_data.loc[train_data.Sex=='female'][\"Survived\"]\n",
    "rate_women=sum(women)/len(women)"
   ]
  },
  {
   "cell_type": "markdown",
   "id": "5e4a2d7d",
   "metadata": {
    "execution": {
     "iopub.execute_input": "2021-09-27T09:49:13.668758Z",
     "iopub.status.busy": "2021-09-27T09:49:13.667855Z",
     "iopub.status.idle": "2021-09-27T09:49:13.675128Z",
     "shell.execute_reply": "2021-09-27T09:49:13.674336Z",
     "shell.execute_reply.started": "2021-09-27T09:49:13.668718Z"
    },
    "papermill": {
     "duration": 0.015271,
     "end_time": "2021-09-27T10:30:49.642229",
     "exception": false,
     "start_time": "2021-09-27T10:30:49.626958",
     "status": "completed"
    },
    "tags": []
   },
   "source": [
    "sum(women)/len(women)"
   ]
  },
  {
   "cell_type": "code",
   "execution_count": 7,
   "id": "b8c439e6",
   "metadata": {
    "execution": {
     "iopub.execute_input": "2021-09-27T10:30:49.680801Z",
     "iopub.status.busy": "2021-09-27T10:30:49.679792Z",
     "iopub.status.idle": "2021-09-27T10:30:49.682806Z",
     "shell.execute_reply": "2021-09-27T10:30:49.682274Z",
     "shell.execute_reply.started": "2021-09-27T10:29:22.754890Z"
    },
    "papermill": {
     "duration": 0.025103,
     "end_time": "2021-09-27T10:30:49.682941",
     "exception": false,
     "start_time": "2021-09-27T10:30:49.657838",
     "status": "completed"
    },
    "tags": []
   },
   "outputs": [],
   "source": [
    "men=train_data.loc[train_data.Sex=='male'][\"Survived\"]\n",
    "rate_men=sum(men)/len(men)"
   ]
  },
  {
   "cell_type": "code",
   "execution_count": 8,
   "id": "a6745653",
   "metadata": {
    "execution": {
     "iopub.execute_input": "2021-09-27T10:30:49.719748Z",
     "iopub.status.busy": "2021-09-27T10:30:49.717484Z",
     "iopub.status.idle": "2021-09-27T10:30:49.722791Z",
     "shell.execute_reply": "2021-09-27T10:30:49.723555Z",
     "shell.execute_reply.started": "2021-09-27T10:29:22.765954Z"
    },
    "papermill": {
     "duration": 0.025016,
     "end_time": "2021-09-27T10:30:49.723809",
     "exception": false,
     "start_time": "2021-09-27T10:30:49.698793",
     "status": "completed"
    },
    "tags": []
   },
   "outputs": [
    {
     "name": "stdout",
     "output_type": "stream",
     "text": [
      "% of women who survived : 0.7420382165605095\n",
      "% of men who survived : 0.18890814558058924\n"
     ]
    }
   ],
   "source": [
    "print(\"% of women who survived :\",rate_women)\n",
    "print(\"% of men who survived :\",rate_men)"
   ]
  },
  {
   "cell_type": "code",
   "execution_count": null,
   "id": "d9865772",
   "metadata": {
    "execution": {
     "iopub.execute_input": "2021-09-27T10:30:49.770041Z",
     "iopub.status.busy": "2021-09-27T10:30:49.768805Z",
     "iopub.status.idle": "2021-09-27T10:30:49.773174Z",
     "shell.execute_reply": "2021-09-27T10:30:49.772624Z",
     "shell.execute_reply.started": "2021-09-27T10:29:22.781552Z"
    },
    "papermill": {
     "duration": 0.027517,
     "end_time": "2021-09-27T10:30:49.773353",
     "exception": false,
     "start_time": "2021-09-27T10:30:49.745836",
     "status": "completed"
    },
    "tags": []
   },
   "outputs": [],
   "source": [
    "target=train_data[\"Survived\"]"
   ]
  },
  {
   "cell_type": "code",
   "execution_count": 10,
   "id": "473357b6",
   "metadata": {
    "execution": {
     "iopub.execute_input": "2021-09-27T10:30:49.815496Z",
     "iopub.status.busy": "2021-09-27T10:30:49.814638Z",
     "iopub.status.idle": "2021-09-27T10:30:49.821679Z",
     "shell.execute_reply": "2021-09-27T10:30:49.822509Z",
     "shell.execute_reply.started": "2021-09-27T10:29:22.814364Z"
    },
    "papermill": {
     "duration": 0.029659,
     "end_time": "2021-09-27T10:30:49.822721",
     "exception": false,
     "start_time": "2021-09-27T10:30:49.793062",
     "status": "completed"
    },
    "tags": []
   },
   "outputs": [],
   "source": [
    "features=['Pclass','Sex','SibSp','Parch']"
   ]
  },
  {
   "cell_type": "code",
   "execution_count": 11,
   "id": "addc3739",
   "metadata": {
    "execution": {
     "iopub.execute_input": "2021-09-27T10:30:49.863107Z",
     "iopub.status.busy": "2021-09-27T10:30:49.862396Z",
     "iopub.status.idle": "2021-09-27T10:30:49.885297Z",
     "shell.execute_reply": "2021-09-27T10:30:49.883960Z",
     "shell.execute_reply.started": "2021-09-27T10:29:22.832792Z"
    },
    "papermill": {
     "duration": 0.042084,
     "end_time": "2021-09-27T10:30:49.885472",
     "exception": false,
     "start_time": "2021-09-27T10:30:49.843388",
     "status": "completed"
    },
    "tags": []
   },
   "outputs": [],
   "source": [
    "x=pd.get_dummies(train_data[features])\n",
    "x_test=pd.get_dummies(test_data[features])"
   ]
  },
  {
   "cell_type": "code",
   "execution_count": 12,
   "id": "71f8e7ed",
   "metadata": {
    "execution": {
     "iopub.execute_input": "2021-09-27T10:30:49.928078Z",
     "iopub.status.busy": "2021-09-27T10:30:49.927048Z",
     "iopub.status.idle": "2021-09-27T10:30:49.947821Z",
     "shell.execute_reply": "2021-09-27T10:30:49.948298Z",
     "shell.execute_reply.started": "2021-09-27T10:29:22.863776Z"
    },
    "papermill": {
     "duration": 0.046152,
     "end_time": "2021-09-27T10:30:49.948472",
     "exception": false,
     "start_time": "2021-09-27T10:30:49.902320",
     "status": "completed"
    },
    "tags": []
   },
   "outputs": [
    {
     "data": {
      "text/html": [
       "<div>\n",
       "<style scoped>\n",
       "    .dataframe tbody tr th:only-of-type {\n",
       "        vertical-align: middle;\n",
       "    }\n",
       "\n",
       "    .dataframe tbody tr th {\n",
       "        vertical-align: top;\n",
       "    }\n",
       "\n",
       "    .dataframe thead th {\n",
       "        text-align: right;\n",
       "    }\n",
       "</style>\n",
       "<table border=\"1\" class=\"dataframe\">\n",
       "  <thead>\n",
       "    <tr style=\"text-align: right;\">\n",
       "      <th></th>\n",
       "      <th>Pclass</th>\n",
       "      <th>SibSp</th>\n",
       "      <th>Parch</th>\n",
       "      <th>Sex_female</th>\n",
       "      <th>Sex_male</th>\n",
       "    </tr>\n",
       "  </thead>\n",
       "  <tbody>\n",
       "    <tr>\n",
       "      <th>0</th>\n",
       "      <td>3</td>\n",
       "      <td>0</td>\n",
       "      <td>0</td>\n",
       "      <td>0</td>\n",
       "      <td>1</td>\n",
       "    </tr>\n",
       "    <tr>\n",
       "      <th>1</th>\n",
       "      <td>3</td>\n",
       "      <td>1</td>\n",
       "      <td>0</td>\n",
       "      <td>1</td>\n",
       "      <td>0</td>\n",
       "    </tr>\n",
       "    <tr>\n",
       "      <th>2</th>\n",
       "      <td>2</td>\n",
       "      <td>0</td>\n",
       "      <td>0</td>\n",
       "      <td>0</td>\n",
       "      <td>1</td>\n",
       "    </tr>\n",
       "    <tr>\n",
       "      <th>3</th>\n",
       "      <td>3</td>\n",
       "      <td>0</td>\n",
       "      <td>0</td>\n",
       "      <td>0</td>\n",
       "      <td>1</td>\n",
       "    </tr>\n",
       "    <tr>\n",
       "      <th>4</th>\n",
       "      <td>3</td>\n",
       "      <td>1</td>\n",
       "      <td>1</td>\n",
       "      <td>1</td>\n",
       "      <td>0</td>\n",
       "    </tr>\n",
       "    <tr>\n",
       "      <th>...</th>\n",
       "      <td>...</td>\n",
       "      <td>...</td>\n",
       "      <td>...</td>\n",
       "      <td>...</td>\n",
       "      <td>...</td>\n",
       "    </tr>\n",
       "    <tr>\n",
       "      <th>413</th>\n",
       "      <td>3</td>\n",
       "      <td>0</td>\n",
       "      <td>0</td>\n",
       "      <td>0</td>\n",
       "      <td>1</td>\n",
       "    </tr>\n",
       "    <tr>\n",
       "      <th>414</th>\n",
       "      <td>1</td>\n",
       "      <td>0</td>\n",
       "      <td>0</td>\n",
       "      <td>1</td>\n",
       "      <td>0</td>\n",
       "    </tr>\n",
       "    <tr>\n",
       "      <th>415</th>\n",
       "      <td>3</td>\n",
       "      <td>0</td>\n",
       "      <td>0</td>\n",
       "      <td>0</td>\n",
       "      <td>1</td>\n",
       "    </tr>\n",
       "    <tr>\n",
       "      <th>416</th>\n",
       "      <td>3</td>\n",
       "      <td>0</td>\n",
       "      <td>0</td>\n",
       "      <td>0</td>\n",
       "      <td>1</td>\n",
       "    </tr>\n",
       "    <tr>\n",
       "      <th>417</th>\n",
       "      <td>3</td>\n",
       "      <td>1</td>\n",
       "      <td>1</td>\n",
       "      <td>0</td>\n",
       "      <td>1</td>\n",
       "    </tr>\n",
       "  </tbody>\n",
       "</table>\n",
       "<p>418 rows × 5 columns</p>\n",
       "</div>"
      ],
      "text/plain": [
       "     Pclass  SibSp  Parch  Sex_female  Sex_male\n",
       "0         3      0      0           0         1\n",
       "1         3      1      0           1         0\n",
       "2         2      0      0           0         1\n",
       "3         3      0      0           0         1\n",
       "4         3      1      1           1         0\n",
       "..      ...    ...    ...         ...       ...\n",
       "413       3      0      0           0         1\n",
       "414       1      0      0           1         0\n",
       "415       3      0      0           0         1\n",
       "416       3      0      0           0         1\n",
       "417       3      1      1           0         1\n",
       "\n",
       "[418 rows x 5 columns]"
      ]
     },
     "execution_count": 12,
     "metadata": {},
     "output_type": "execute_result"
    }
   ],
   "source": [
    "x_test"
   ]
  },
  {
   "cell_type": "code",
   "execution_count": 13,
   "id": "c6749e94",
   "metadata": {
    "execution": {
     "iopub.execute_input": "2021-09-27T10:30:49.987821Z",
     "iopub.status.busy": "2021-09-27T10:30:49.984586Z",
     "iopub.status.idle": "2021-09-27T10:30:50.222210Z",
     "shell.execute_reply": "2021-09-27T10:30:50.222847Z",
     "shell.execute_reply.started": "2021-09-27T10:29:22.893833Z"
    },
    "papermill": {
     "duration": 0.257876,
     "end_time": "2021-09-27T10:30:50.223032",
     "exception": false,
     "start_time": "2021-09-27T10:30:49.965156",
     "status": "completed"
    },
    "tags": []
   },
   "outputs": [],
   "source": [
    "model=RandomForestClassifier(n_estimators=100,max_depth=5,random_state=1)\n",
    "model.fit(x,target)\n",
    "predictions=model.predict(x_test)"
   ]
  },
  {
   "cell_type": "code",
   "execution_count": 14,
   "id": "08e2137e",
   "metadata": {
    "execution": {
     "iopub.execute_input": "2021-09-27T10:30:50.265874Z",
     "iopub.status.busy": "2021-09-27T10:30:50.265007Z",
     "iopub.status.idle": "2021-09-27T10:30:50.268312Z",
     "shell.execute_reply": "2021-09-27T10:30:50.268766Z",
     "shell.execute_reply.started": "2021-09-27T10:29:23.115694Z"
    },
    "papermill": {
     "duration": 0.029156,
     "end_time": "2021-09-27T10:30:50.268939",
     "exception": false,
     "start_time": "2021-09-27T10:30:50.239783",
     "status": "completed"
    },
    "tags": []
   },
   "outputs": [
    {
     "data": {
      "text/plain": [
       "array([0, 1, 0, 0, 1, 0, 1, 0, 1, 0, 0, 0, 1, 0, 1, 1, 0, 0, 1, 1, 0, 0,\n",
       "       1, 0, 1, 0, 1, 0, 0, 0, 0, 0, 0, 0, 0, 0, 1, 1, 0, 0, 0, 0, 0, 1,\n",
       "       1, 0, 0, 0, 1, 1, 0, 0, 1, 1, 0, 0, 0, 0, 0, 1, 0, 0, 0, 1, 1, 1,\n",
       "       1, 0, 0, 1, 1, 0, 1, 0, 1, 0, 0, 1, 0, 1, 0, 0, 0, 0, 0, 0, 1, 1,\n",
       "       1, 0, 1, 0, 1, 0, 0, 0, 1, 0, 1, 0, 1, 0, 0, 0, 1, 0, 0, 0, 0, 0,\n",
       "       0, 1, 1, 1, 1, 0, 0, 1, 0, 1, 1, 0, 1, 0, 0, 1, 0, 1, 0, 0, 0, 0,\n",
       "       0, 0, 0, 0, 0, 0, 1, 0, 0, 1, 1, 0, 0, 0, 0, 0, 0, 0, 1, 0, 0, 1,\n",
       "       0, 0, 1, 1, 0, 1, 1, 0, 1, 0, 0, 1, 0, 0, 1, 1, 0, 0, 0, 0, 0, 1,\n",
       "       1, 0, 1, 1, 0, 0, 1, 0, 1, 0, 1, 0, 0, 0, 0, 0, 0, 0, 1, 0, 0, 1,\n",
       "       0, 1, 1, 0, 0, 1, 0, 0, 1, 0, 1, 0, 0, 0, 0, 1, 0, 0, 1, 0, 1, 0,\n",
       "       1, 0, 1, 0, 1, 1, 0, 1, 0, 0, 0, 1, 0, 0, 0, 0, 0, 0, 1, 1, 1, 1,\n",
       "       0, 0, 0, 0, 1, 0, 1, 1, 1, 0, 0, 0, 0, 0, 0, 0, 1, 0, 0, 0, 1, 1,\n",
       "       0, 0, 0, 0, 1, 0, 0, 0, 1, 1, 0, 1, 0, 0, 0, 0, 1, 0, 1, 1, 1, 0,\n",
       "       0, 0, 0, 0, 0, 1, 0, 0, 0, 0, 1, 0, 0, 0, 0, 0, 0, 0, 1, 1, 1, 0,\n",
       "       0, 1, 0, 0, 0, 1, 1, 1, 0, 0, 0, 0, 0, 0, 0, 0, 1, 0, 1, 0, 0, 0,\n",
       "       1, 0, 0, 1, 0, 0, 0, 0, 0, 0, 0, 0, 0, 1, 0, 1, 0, 1, 0, 1, 1, 0,\n",
       "       0, 0, 0, 0, 1, 0, 0, 1, 0, 1, 1, 0, 1, 0, 0, 1, 1, 0, 0, 1, 0, 0,\n",
       "       1, 1, 1, 0, 0, 0, 0, 0, 1, 1, 0, 1, 0, 0, 0, 0, 0, 1, 0, 0, 0, 1,\n",
       "       0, 1, 0, 0, 1, 0, 1, 0, 0, 0, 0, 0, 1, 1, 1, 1, 1, 0, 1, 0, 0, 0])"
      ]
     },
     "execution_count": 14,
     "metadata": {},
     "output_type": "execute_result"
    }
   ],
   "source": [
    "predictions"
   ]
  },
  {
   "cell_type": "code",
   "execution_count": 15,
   "id": "56829d8c",
   "metadata": {
    "execution": {
     "iopub.execute_input": "2021-09-27T10:30:50.311155Z",
     "iopub.status.busy": "2021-09-27T10:30:50.310068Z",
     "iopub.status.idle": "2021-09-27T10:30:50.315737Z",
     "shell.execute_reply": "2021-09-27T10:30:50.316319Z",
     "shell.execute_reply.started": "2021-09-27T10:29:23.125344Z"
    },
    "papermill": {
     "duration": 0.030159,
     "end_time": "2021-09-27T10:30:50.316499",
     "exception": false,
     "start_time": "2021-09-27T10:30:50.286340",
     "status": "completed"
    },
    "tags": []
   },
   "outputs": [],
   "source": [
    "output=pd.DataFrame({'PassengerId':test_data.PassengerId,'Survived':predictions})\n",
    "output.to_csv('my_submission.csv',index=False)"
   ]
  },
  {
   "cell_type": "code",
   "execution_count": 16,
   "id": "9437195e",
   "metadata": {
    "execution": {
     "iopub.execute_input": "2021-09-27T10:30:50.361390Z",
     "iopub.status.busy": "2021-09-27T10:30:50.354015Z",
     "iopub.status.idle": "2021-09-27T10:30:50.365616Z",
     "shell.execute_reply": "2021-09-27T10:30:50.365048Z",
     "shell.execute_reply.started": "2021-09-27T10:29:23.141673Z"
    },
    "papermill": {
     "duration": 0.031511,
     "end_time": "2021-09-27T10:30:50.365764",
     "exception": false,
     "start_time": "2021-09-27T10:30:50.334253",
     "status": "completed"
    },
    "tags": []
   },
   "outputs": [
    {
     "data": {
      "text/html": [
       "<div>\n",
       "<style scoped>\n",
       "    .dataframe tbody tr th:only-of-type {\n",
       "        vertical-align: middle;\n",
       "    }\n",
       "\n",
       "    .dataframe tbody tr th {\n",
       "        vertical-align: top;\n",
       "    }\n",
       "\n",
       "    .dataframe thead th {\n",
       "        text-align: right;\n",
       "    }\n",
       "</style>\n",
       "<table border=\"1\" class=\"dataframe\">\n",
       "  <thead>\n",
       "    <tr style=\"text-align: right;\">\n",
       "      <th></th>\n",
       "      <th>PassengerId</th>\n",
       "      <th>Survived</th>\n",
       "    </tr>\n",
       "  </thead>\n",
       "  <tbody>\n",
       "    <tr>\n",
       "      <th>0</th>\n",
       "      <td>892</td>\n",
       "      <td>0</td>\n",
       "    </tr>\n",
       "    <tr>\n",
       "      <th>1</th>\n",
       "      <td>893</td>\n",
       "      <td>1</td>\n",
       "    </tr>\n",
       "    <tr>\n",
       "      <th>2</th>\n",
       "      <td>894</td>\n",
       "      <td>0</td>\n",
       "    </tr>\n",
       "    <tr>\n",
       "      <th>3</th>\n",
       "      <td>895</td>\n",
       "      <td>0</td>\n",
       "    </tr>\n",
       "    <tr>\n",
       "      <th>4</th>\n",
       "      <td>896</td>\n",
       "      <td>1</td>\n",
       "    </tr>\n",
       "  </tbody>\n",
       "</table>\n",
       "</div>"
      ],
      "text/plain": [
       "   PassengerId  Survived\n",
       "0          892         0\n",
       "1          893         1\n",
       "2          894         0\n",
       "3          895         0\n",
       "4          896         1"
      ]
     },
     "execution_count": 16,
     "metadata": {},
     "output_type": "execute_result"
    }
   ],
   "source": [
    "output.head()"
   ]
  },
  {
   "cell_type": "code",
   "execution_count": null,
   "id": "64062cdf",
   "metadata": {
    "papermill": {
     "duration": 0.017285,
     "end_time": "2021-09-27T10:30:50.401096",
     "exception": false,
     "start_time": "2021-09-27T10:30:50.383811",
     "status": "completed"
    },
    "tags": []
   },
   "outputs": [],
   "source": []
  }
 ],
 "metadata": {
  "kernelspec": {
   "display_name": "Python 3.8.10 64-bit",
   "language": "python",
   "name": "python3"
  },
  "language_info": {
   "codemirror_mode": {
    "name": "ipython",
    "version": 3
   },
   "file_extension": ".py",
   "mimetype": "text/x-python",
   "name": "python",
   "nbconvert_exporter": "python",
   "pygments_lexer": "ipython3",
   "version": "3.8.10"
  },
  "papermill": {
   "default_parameters": {},
   "duration": 11.40153,
   "end_time": "2021-09-27T10:30:51.028809",
   "environment_variables": {},
   "exception": null,
   "input_path": "__notebook__.ipynb",
   "output_path": "__notebook__.ipynb",
   "parameters": {},
   "start_time": "2021-09-27T10:30:39.627279",
   "version": "2.3.3"
  },
  "vscode": {
   "interpreter": {
    "hash": "b337b16e1f284c9fe7de692799556d56c1809887abe3f5a49ffeb9e7df151cfb"
   }
  }
 },
 "nbformat": 4,
 "nbformat_minor": 5
}
